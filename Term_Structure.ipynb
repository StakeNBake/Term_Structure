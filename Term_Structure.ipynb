{
  "cells": [
    {
      "cell_type": "markdown",
      "metadata": {
        "id": "9J2iOom3kYVq"
      },
      "source": [
        "# Yield Curve - Term Structure"
      ]
    },
    {
      "cell_type": "code",
      "execution_count": 6,
      "metadata": {
        "id": "PVGK8ncA4VjT"
      },
      "outputs": [],
      "source": [
        "%matplotlib inline               \n",
        "import numpy as np\n",
        "import math as m\n",
        "import matplotlib.pyplot as plt\n",
        "from datascience import *"
      ]
    },
    {
      "cell_type": "markdown",
      "metadata": {
        "id": "zRdcSeTKjMt_"
      },
      "source": [
        "## Muni Bonds"
      ]
    },
    {
      "cell_type": "code",
      "execution_count": 7,
      "metadata": {
        "colab": {
          "base_uri": "https://localhost:8080/",
          "height": 282
        },
        "id": "27OJxW_NXIDd",
        "outputId": "e3570773-5544-48b7-f80b-c26de32b943d"
      },
      "outputs": [
        {
          "output_type": "execute_result",
          "data": {
            "text/plain": [
              "[<matplotlib.lines.Line2D at 0x7f06bf091110>]"
            ]
          },
          "metadata": {},
          "execution_count": 7
        },
        {
          "output_type": "display_data",
          "data": {
            "text/plain": [
              "<Figure size 432x288 with 1 Axes>"
            ],
            "image/png": "[encoded data removed]"
          },
          "metadata": {
            "needs_background": "light"
          }
        }
      ],
      "source": [
        "class ZCB:\n",
        "  def __init__(self,maturity):\n",
        "    self.maturity=maturity\n",
        "  def YTM(self, price):\n",
        "    return m.pow(100/price, 1/self.maturity)-1\n",
        "  def Price(self, ytm):\n",
        "    return 100/m.pow(1+ytm, self.maturity)\n",
        "\n",
        "maturities= [1,2,5,10,30]\n",
        "rates= [.0149,.0173,.0199,.0221,.026]\n",
        "\n",
        "bonds = [ZCB(i) for i in maturities]\n",
        "prices= [bonds[i].Price(rates[i]) for i in range(0,5)]\n",
        "prices\n",
        "plt.plot(maturities,rates)"
      ]
    },
    {
      "cell_type": "markdown",
      "metadata": {
        "id": "IqC8NI8PkDP3"
      },
      "source": [
        "## Treasury Bonds\n",
        "\n"
      ]
    },
    {
      "cell_type": "code",
      "execution_count": 8,
      "metadata": {
        "colab": {
          "base_uri": "https://localhost:8080/",
          "height": 282
        },
        "id": "w7AUDTw6E2MJ",
        "outputId": "62f7949f-7fa7-4149-adf9-17671e6d698e"
      },
      "outputs": [
        {
          "output_type": "execute_result",
          "data": {
            "text/plain": [
              "[<matplotlib.lines.Line2D at 0x7f06bea026d0>]"
            ]
          },
          "metadata": {},
          "execution_count": 8
        },
        {
          "output_type": "display_data",
          "data": {
            "text/plain": [
              "<Figure size 432x288 with 1 Axes>"
            ],
            "image/png": "[encoded data removed]"
          },
          "metadata": {
            "needs_background": "light"
          }
        }
      ],
      "source": [
        "class ZCB:\n",
        "  def __init__(self,maturity):\n",
        "    self.maturity=maturity\n",
        "  def YTM(self, price):\n",
        "    return m.pow(100/price, 1/self.maturity)-1\n",
        "  def Price(self, ytm):\n",
        "    return 100/m.pow(1+ytm, self.maturity)\n",
        "\n",
        "# Months\n",
        "maturities= [(1/4),(1/2),1,2,5,10,30]\n",
        "rates= [.0048,.0091,.0156,.0233,.0259,.0250,.0260]\n",
        "\n",
        "#Years\n",
        "# maturities= [2,5,10,30]\n",
        "# rates= [.0233,.0259,.0250,.0260]\n",
        "\n",
        "bonds = [ZCB(i) for i in maturities]\n",
        "prices= [bonds[i].Price(rates[i]) for i in range(0,4)]\n",
        "prices\n",
        "plt.plot(maturities,rates)\n"
      ]
    }
  ],
  "metadata": {
    "colab": {
      "collapsed_sections": [],
      "name": "Term Structure",
      "provenance": []
    },
    "kernelspec": {
      "display_name": "Python 3",
      "name": "python3"
    },
    "language_info": {
      "name": "python"
    }
  },
  "nbformat": 4,
  "nbformat_minor": 0
}